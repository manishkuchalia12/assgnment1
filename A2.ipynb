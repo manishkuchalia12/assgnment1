{
 "cells": [
  {
   "cell_type": "markdown",
   "id": "28661b40-f012-4151-8132-83f9b6b3535f",
   "metadata": {},
   "source": [
    "How do you comment code in Python? What are the different types of comments?"
   ]
  },
  {
   "cell_type": "markdown",
   "id": "bfdf8b70-d043-4875-9e90-e0d4c93a36f9",
   "metadata": {},
   "source": [
    "Ans: In Python, you can add comments to your code to provide explanations or notes to make your code more readable and understandable. There are two main types of comments in Python:"
   ]
  },
  {
   "cell_type": "markdown",
   "id": "56e50dba-c92f-41aa-81cf-f1d67bb0b159",
   "metadata": {},
   "source": [
    "There are two types of comments\n",
    "1. single line comment \n",
    "2. multi- line comment \n",
    "\n",
    "E.g= # This is a single-line comment\n",
    "\n",
    "E.g= ''' This is multiline comment'''"
   ]
  },
  {
   "cell_type": "markdown",
   "id": "fd7cbc04-aca5-494b-a648-cab4e2ec666e",
   "metadata": {},
   "source": [
    "Q= What are variables in Python? How do you declare and assign values to variables?\n",
    "   Variables are used to store and manipulate data in your code.\n",
    "   \n",
    " variable Naming Rules:\n",
    "Variable names must start with a letter (a-z, A-Z) or an underscore (_).\n",
    "The rest of the variable name can consist of letters, numbers (0-9), and underscores.\n",
    "Variable names are case-sensitive."
   ]
  },
  {
   "cell_type": "code",
   "execution_count": 1,
   "id": "05716b0f-f8ca-4658-a846-9a9a377b483f",
   "metadata": {},
   "outputs": [
    {
     "name": "stdout",
     "output_type": "stream",
     "text": [
      "12\n"
     ]
    }
   ],
   "source": [
    "#Example \n",
    "a=12\n",
    "print(a)"
   ]
  },
  {
   "cell_type": "markdown",
   "id": "c0bfc71b-ffab-47cc-aea7-52adea86a46c",
   "metadata": {},
   "source": [
    "Q3. How do you convert one data type to another in Python?"
   ]
  },
  {
   "cell_type": "markdown",
   "id": "4e7539c5-3e71-4641-81ac-044f13f3f6ea",
   "metadata": {},
   "source": [
    "#There are many type a data type convert to another data type in python \n",
    "1.Implicit Type Conversion (Type Coercion): \n",
    "    Python automatically performs type conversion when it makes sense and is safe to do so.\n",
    "    \n"
   ]
  },
  {
   "cell_type": "code",
   "execution_count": 5,
   "id": "d5aac0ca-85e7-4b7f-87e3-acad4d6d1f1e",
   "metadata": {},
   "outputs": [
    {
     "name": "stdout",
     "output_type": "stream",
     "text": [
      "45.14\n"
     ]
    }
   ],
   "source": [
    "#E.g of  Implicit type conversion\n",
    "a= 42\n",
    "b= 3.14\n",
    "result = a + b\n",
    "print(result)"
   ]
  },
  {
   "cell_type": "code",
   "execution_count": 8,
   "id": "2dee285b-7a98-4e77-9ce3-23dbf984811a",
   "metadata": {},
   "outputs": [],
   "source": [
    "#Explicit Type Conversion (Type Casting): You can explicitly convert a value from one data type to another using built-in functions. \n",
    "# Explicit type conversion\n",
    "s_str = \"123\"\n",
    "i_int = int(s_str)  # Converts the string \"123\" to an integer\n",
    "f_float = float(i_int)  # Converts the integer to a float\n",
    "\n"
   ]
  },
  {
   "cell_type": "code",
   "execution_count": 9,
   "id": "d5edb9ba-b134-4605-b0a8-fcf24c7f040a",
   "metadata": {},
   "outputs": [
    {
     "name": "stdout",
     "output_type": "stream",
     "text": [
      "[2, 3]\n"
     ]
    }
   ],
   "source": [
    "#Q5. Given a list my_list = [1, 2, 3, 4, 5], write the code to slice the list and obtain the sub-list [2, 3].\n",
    "my_list = [1, 2, 3, 4, 5]\n",
    "sub_list = my_list[1:3]\n",
    "print(sub_list)"
   ]
  },
  {
   "cell_type": "code",
   "execution_count": 14,
   "id": "70e32b4a-ca0b-4b5a-aca5-9e850482ac33",
   "metadata": {},
   "outputs": [
    {
     "data": {
      "text/plain": [
       "3.0"
      ]
     },
     "execution_count": 14,
     "metadata": {},
     "output_type": "execute_result"
    }
   ],
   "source": [
    "#Q6. What is a complex number in mathematics, and how is it represented in Python?\n",
    "#In mathematics, a complex number is a number that can be expressed in the form a + bi, where a and b are real numbers, and i is the imaginary unit.\n",
    "#in python represented a complex number in the form of (a+bj)\n",
    "#a: a is real number \n",
    "#b: b is imaginary number\n",
    "\n",
    "com=2+3j\n",
    "type(com)\n",
    "com.real\n",
    "com.imag"
   ]
  },
  {
   "cell_type": "code",
   "execution_count": 15,
   "id": "b4c09196-95aa-4185-8a51-acdd4c994696",
   "metadata": {},
   "outputs": [],
   "source": [
    "#Q7. What is the correct way to declare a variable named age and assign the value 25 to it?\n",
    "age = 25\n",
    "#age is the variable name.\n",
    "# = is the assignment operator, which is used to assign a value to the variable.\n",
    "#25 is the value you want to assign to the variable."
   ]
  },
  {
   "cell_type": "code",
   "execution_count": 17,
   "id": "ce2646b4-58de-4033-ab09-6ec4c1f5af2b",
   "metadata": {},
   "outputs": [
    {
     "data": {
      "text/plain": [
       "float"
      ]
     },
     "execution_count": 17,
     "metadata": {},
     "output_type": "execute_result"
    }
   ],
   "source": [
    "#Q8. Declare a variable named price and assign the value 9.99 to it. What data type does this variable belong to?\n",
    "price = 9.99\n",
    "type(price)\n",
    "#The variable price belongs to the float data type"
   ]
  },
  {
   "cell_type": "code",
   "execution_count": 18,
   "id": "7c18009b-1742-42a7-8469-e285c299c0a0",
   "metadata": {},
   "outputs": [
    {
     "name": "stdout",
     "output_type": "stream",
     "text": [
      "Manish kuchalia\n"
     ]
    }
   ],
   "source": [
    "#Q9. Create a variable named name and assign your full name to it as a string. How would you print the value of this variable?\n",
    "name = \"Manish kuchalia\"\n",
    "print(name)"
   ]
  },
  {
   "cell_type": "code",
   "execution_count": 19,
   "id": "178d359c-4029-4c52-a09e-891fbb447870",
   "metadata": {},
   "outputs": [
    {
     "name": "stdout",
     "output_type": "stream",
     "text": [
      "World\n"
     ]
    }
   ],
   "source": [
    "#Q10. Given the string \"Hello, World!\", extract the substring \"World\".\n",
    "ori_str = \"Hello, World!\"\n",
    "substr = ori_str[7:12]\n",
    "print(substr)\n"
   ]
  },
  {
   "cell_type": "code",
   "execution_count": null,
   "id": "3755fc75-8aa6-4d99-88ae-dd1b2bca1ade",
   "metadata": {},
   "outputs": [],
   "source": [
    "#Q11. Create a variable named \"is_student\" and assign it a boolean value indicating whether you are currently a student or not.\n",
    "is_student"
   ]
  }
 ],
 "metadata": {
  "kernelspec": {
   "display_name": "Python 3 (ipykernel)",
   "language": "python",
   "name": "python3"
  },
  "language_info": {
   "codemirror_mode": {
    "name": "ipython",
    "version": 3
   },
   "file_extension": ".py",
   "mimetype": "text/x-python",
   "name": "python",
   "nbconvert_exporter": "python",
   "pygments_lexer": "ipython3",
   "version": "3.10.8"
  }
 },
 "nbformat": 4,
 "nbformat_minor": 5
}
